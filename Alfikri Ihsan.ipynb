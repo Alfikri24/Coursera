{
 "cells": [
  {
   "cell_type": "markdown",
   "id": "7f25fccc-564f-4120-bb63-0c22bedd2792",
   "metadata": {},
   "source": [
    "<center>\n",
    "    <img src=\"https://cf-courses-data.s3.us.cloud-object-storage.appdomain.cloud/IBMDeveloperSkillsNetwork-DS0105EN-SkillsNetwork/labs/Module2/images/SN_web_lightmode.png\" width=\"300\" alt=\"cognitiveclass.ai logo\">\n",
    "</center>\n"
   ]
  },
  {
   "cell_type": "markdown",
   "id": "688407a0-70a0-4989-9526-212e652c3daa",
   "metadata": {},
   "source": [
    "#### Add your code below following the instructions given in the course\n"
   ]
  },
  {
   "cell_type": "markdown",
   "id": "83b1ac06-0d30-4918-82f0-95f08f6ea967",
   "metadata": {},
   "source": [
    "# Data Science Tools and Ecosystem"
   ]
  },
  {
   "cell_type": "markdown",
   "id": "ca34b20b-b501-4df1-9b5a-a3f0449850e4",
   "metadata": {},
   "source": [
    "In this notebook, Data Science Tools and Ecosystem are summarized."
   ]
  },
  {
   "cell_type": "markdown",
   "id": "d84981ca-0329-412f-980a-8e22cd4036e9",
   "metadata": {},
   "source": [
    "**Objectives**\n",
    "- Python\n",
    "- R/Rstudio\n",
    "- SQL"
   ]
  },
  {
   "cell_type": "markdown",
   "id": "09cc3b58-c0a6-44da-ad0f-351aebe2c314",
   "metadata": {},
   "source": [
    "Some of the popular languages that Data Scientists use are:\n",
    "1. Python\n",
    "2. R\n",
    "3. Julia\n",
    "4. Scala\n",
    "5. Javascript"
   ]
  },
  {
   "cell_type": "markdown",
   "id": "5b7e0aaa-5f5b-47e6-b4cc-4d93bb47da0e",
   "metadata": {},
   "source": [
    "Some of the commonly used libraries used by Data Scientists include:\n",
    "1. Pandas\n",
    "2. NumPy\n",
    "3. Matplotlib\n",
    "4. Seaborn\n",
    "5. Plotly"
   ]
  },
  {
   "cell_type": "markdown",
   "id": "0db9cbf0-4dc3-4ca3-9555-57a4bc3d6aa2",
   "metadata": {},
   "source": [
    "Data Science Tools\n",
    "| Data Science Tools         |\n",
    "|-----------------------------|\n",
    "| Jupyter Notebook           |\n",
    "| RStudio                    |\n",
    "| Apache Zeppelin            |\n",
    "| Google Colab               |\n",
    "| Spyder                     |"
   ]
  },
  {
   "cell_type": "markdown",
   "id": "174d8818-2a65-4d04-86dd-2d7e4b4126a5",
   "metadata": {},
   "source": [
    "### Below are a few examples of evaluating arithmetic expressions in Python"
   ]
  },
  {
   "cell_type": "code",
   "execution_count": 2,
   "id": "f3b0ca8c-03d4-4b66-abf0-85de21d886bc",
   "metadata": {},
   "outputs": [
    {
     "data": {
      "text/plain": [
       "17"
      ]
     },
     "execution_count": 2,
     "metadata": {},
     "output_type": "execute_result"
    }
   ],
   "source": [
    "# This a simple arithmetic expression to mutiply then add integers\n",
    "(3*4)+5"
   ]
  },
  {
   "cell_type": "code",
   "execution_count": 3,
   "id": "4acb2be5-a390-44eb-a5f8-44b11988a912",
   "metadata": {},
   "outputs": [
    {
     "data": {
      "text/plain": [
       "3.3333333333333335"
      ]
     },
     "execution_count": 3,
     "metadata": {},
     "output_type": "execute_result"
    }
   ],
   "source": [
    "#  This will convert 200 minutes to hours by diving by 60\n",
    "200/60"
   ]
  },
  {
   "cell_type": "markdown",
   "id": "8555fb81-e01e-48de-908e-2a83d54afb96",
   "metadata": {},
   "source": [
    "## Author\n",
    "Alfikri Ihsan"
   ]
  }
 ],
 "metadata": {
  "kernelspec": {
   "display_name": "Python 3 (ipykernel)",
   "language": "python",
   "name": "python3"
  },
  "language_info": {
   "codemirror_mode": {
    "name": "ipython",
    "version": 3
   },
   "file_extension": ".py",
   "mimetype": "text/x-python",
   "name": "python",
   "nbconvert_exporter": "python",
   "pygments_lexer": "ipython3",
   "version": "3.11.9"
  }
 },
 "nbformat": 4,
 "nbformat_minor": 5
}
